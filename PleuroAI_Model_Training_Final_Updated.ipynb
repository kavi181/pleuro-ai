{
 "cells": [
  {
   "cell_type": "code",
   "execution_count": 1,
   "id": "2fd8f45c",
   "metadata": {},
   "outputs": [
    {
     "data": {
      "text/plain": [
       "True"
      ]
     },
     "execution_count": 1,
     "metadata": {},
     "output_type": "execute_result"
    }
   ],
   "source": [
    "\n",
    "# Step 1: Import Libraries\n",
    "import pandas as pd\n",
    "import numpy as np\n",
    "from sklearn.ensemble import RandomForestClassifier\n",
    "from sklearn.metrics import accuracy_score, confusion_matrix, classification_report\n",
    "from sklearn.model_selection import train_test_split\n",
    "import joblib\n",
    "from openai import AzureOpenAI\n",
    "from azure.cosmos import CosmosClient, PartitionKey\n",
    "import uuid\n",
    "import os\n",
    "\n",
    "from dotenv import load_dotenv\n",
    "load_dotenv()"
   ]
  },
  {
   "cell_type": "code",
   "execution_count": 2,
   "id": "e09f1a92",
   "metadata": {},
   "outputs": [
    {
     "data": {
      "text/html": [
       "<div>\n",
       "<style scoped>\n",
       "    .dataframe tbody tr th:only-of-type {\n",
       "        vertical-align: middle;\n",
       "    }\n",
       "\n",
       "    .dataframe tbody tr th {\n",
       "        vertical-align: top;\n",
       "    }\n",
       "\n",
       "    .dataframe thead th {\n",
       "        text-align: right;\n",
       "    }\n",
       "</style>\n",
       "<table border=\"1\" class=\"dataframe\">\n",
       "  <thead>\n",
       "    <tr style=\"text-align: right;\">\n",
       "      <th></th>\n",
       "      <th>AGE</th>\n",
       "      <th>GENDER</th>\n",
       "      <th>US_ECHO</th>\n",
       "      <th>US_DIAPHRAGM</th>\n",
       "      <th>US_FIBRIN</th>\n",
       "      <th>US_PLEURAL_THICKENING</th>\n",
       "      <th>PF_PROTEIN</th>\n",
       "      <th>PF_LDH</th>\n",
       "      <th>PF_GLUCOSE</th>\n",
       "      <th>PF_ADA</th>\n",
       "      <th>DX_CLASS</th>\n",
       "    </tr>\n",
       "  </thead>\n",
       "  <tbody>\n",
       "    <tr>\n",
       "      <th>0</th>\n",
       "      <td>59</td>\n",
       "      <td>0</td>\n",
       "      <td>1</td>\n",
       "      <td>0</td>\n",
       "      <td>1</td>\n",
       "      <td>3.7</td>\n",
       "      <td>37.0</td>\n",
       "      <td>282</td>\n",
       "      <td>3.5</td>\n",
       "      <td>30.254</td>\n",
       "      <td>1</td>\n",
       "    </tr>\n",
       "    <tr>\n",
       "      <th>1</th>\n",
       "      <td>26</td>\n",
       "      <td>0</td>\n",
       "      <td>0</td>\n",
       "      <td>1</td>\n",
       "      <td>0</td>\n",
       "      <td>0.0</td>\n",
       "      <td>54.0</td>\n",
       "      <td>380</td>\n",
       "      <td>4.7</td>\n",
       "      <td>46.500</td>\n",
       "      <td>1</td>\n",
       "    </tr>\n",
       "    <tr>\n",
       "      <th>2</th>\n",
       "      <td>53</td>\n",
       "      <td>0</td>\n",
       "      <td>0</td>\n",
       "      <td>0</td>\n",
       "      <td>1</td>\n",
       "      <td>10.0</td>\n",
       "      <td>38.0</td>\n",
       "      <td>3493</td>\n",
       "      <td>0.1</td>\n",
       "      <td>135.900</td>\n",
       "      <td>1</td>\n",
       "    </tr>\n",
       "    <tr>\n",
       "      <th>3</th>\n",
       "      <td>23</td>\n",
       "      <td>1</td>\n",
       "      <td>0</td>\n",
       "      <td>1</td>\n",
       "      <td>1</td>\n",
       "      <td>0.0</td>\n",
       "      <td>59.0</td>\n",
       "      <td>675</td>\n",
       "      <td>3.8</td>\n",
       "      <td>80.100</td>\n",
       "      <td>1</td>\n",
       "    </tr>\n",
       "    <tr>\n",
       "      <th>4</th>\n",
       "      <td>25</td>\n",
       "      <td>1</td>\n",
       "      <td>0</td>\n",
       "      <td>1</td>\n",
       "      <td>1</td>\n",
       "      <td>0.0</td>\n",
       "      <td>58.0</td>\n",
       "      <td>364</td>\n",
       "      <td>4.6</td>\n",
       "      <td>49.600</td>\n",
       "      <td>1</td>\n",
       "    </tr>\n",
       "  </tbody>\n",
       "</table>\n",
       "</div>"
      ],
      "text/plain": [
       "   AGE  GENDER  US_ECHO  US_DIAPHRAGM  US_FIBRIN  US_PLEURAL_THICKENING  \\\n",
       "0   59       0        1             0          1                    3.7   \n",
       "1   26       0        0             1          0                    0.0   \n",
       "2   53       0        0             0          1                   10.0   \n",
       "3   23       1        0             1          1                    0.0   \n",
       "4   25       1        0             1          1                    0.0   \n",
       "\n",
       "   PF_PROTEIN  PF_LDH  PF_GLUCOSE   PF_ADA  DX_CLASS  \n",
       "0        37.0     282         3.5   30.254         1  \n",
       "1        54.0     380         4.7   46.500         1  \n",
       "2        38.0    3493         0.1  135.900         1  \n",
       "3        59.0     675         3.8   80.100         1  \n",
       "4        58.0     364         4.6   49.600         1  "
      ]
     },
     "execution_count": 2,
     "metadata": {},
     "output_type": "execute_result"
    }
   ],
   "source": [
    "\n",
    "# Step 2: Load Dataset\n",
    "df = pd.read_csv(\"data/dataset.csv\")\n",
    "df.head()\n"
   ]
  },
  {
   "cell_type": "code",
   "execution_count": 3,
   "id": "7d5d14e0",
   "metadata": {},
   "outputs": [],
   "source": [
    "# Step 3: Type casting (optional, if needed)\n",
    "df = df.astype({\n",
    "    \"AGE\": 'int64',\n",
    "    \"GENDER\": 'int64',\n",
    "    \"US_ECHO\": 'int64',\n",
    "    \"US_DIAPHRAGM\": 'int64',\n",
    "    \"US_FIBRIN\": 'int64',\n",
    "    \"US_PLEURAL_THICKENING\": 'float64',\n",
    "    \"PF_PROTEIN\": 'float64',\n",
    "    \"PF_LDH\": 'float64',\n",
    "    \"PF_GLUCOSE\": 'float64',\n",
    "    \"PF_ADA\": 'float64',\n",
    "    \"DX_CLASS\": 'int64'\n",
    "})"
   ]
  },
  {
   "cell_type": "code",
   "execution_count": 4,
   "id": "db61ace4",
   "metadata": {},
   "outputs": [],
   "source": [
    "\n",
    "# Step 4: Preprocess Data\n",
    "X = df.drop(columns=[\"DX_CLASS\"])\n",
    "y = df[\"DX_CLASS\"]\n",
    "X_train, X_test, y_train, y_test = train_test_split(X, y, test_size=0.2, random_state=42)\n"
   ]
  },
  {
   "cell_type": "code",
   "execution_count": 5,
   "id": "5991023e",
   "metadata": {},
   "outputs": [
    {
     "data": {
      "text/plain": [
       "['models/pleuroai_model.pkl']"
      ]
     },
     "execution_count": 5,
     "metadata": {},
     "output_type": "execute_result"
    }
   ],
   "source": [
    "\n",
    "# Step 5: Train Random Forest Model\n",
    "model = RandomForestClassifier(n_estimators=100, random_state=42)\n",
    "model.fit(X_train, y_train)\n",
    "joblib.dump(model, \"models/pleuroai_model.pkl\")\n"
   ]
  },
  {
   "cell_type": "code",
   "execution_count": 6,
   "id": "13e923f2",
   "metadata": {},
   "outputs": [
    {
     "name": "stdout",
     "output_type": "stream",
     "text": [
      "Accuracy: 0.9259259259259259\n",
      "Confusion Matrix:\n",
      " [[17  1]\n",
      " [ 1  8]]\n",
      "Classification Report:\n",
      "               precision    recall  f1-score   support\n",
      "\n",
      "           1       0.94      0.94      0.94        18\n",
      "           2       0.89      0.89      0.89         9\n",
      "\n",
      "    accuracy                           0.93        27\n",
      "   macro avg       0.92      0.92      0.92        27\n",
      "weighted avg       0.93      0.93      0.93        27\n",
      "\n"
     ]
    }
   ],
   "source": [
    "\n",
    "# Step 6: Evaluate Model\n",
    "y_pred = model.predict(X_test)\n",
    "print(\"Accuracy:\", accuracy_score(y_test, y_pred))\n",
    "print(\"Confusion Matrix:\\n\", confusion_matrix(y_test, y_pred))\n",
    "print(\"Classification Report:\\n\", classification_report(y_test, y_pred))\n"
   ]
  },
  {
   "cell_type": "code",
   "execution_count": 7,
   "id": "3efba13f",
   "metadata": {},
   "outputs": [
    {
     "name": "stdout",
     "output_type": "stream",
     "text": [
      "Prediction: Likely Malignant Pleural Effusion (MPE) with confidence: 57.0%\n",
      "GPT Clinical Suggestion:\n",
      " Based on the data provided and the suspicion of Malignant Pleural Effusion (MPE), the following clinical steps can be considered:\n",
      "\n",
      "1. **Further Investigations**:\n",
      "   - **Thoracentesis**: Confirm the presence of malignant cells in the pleural fluid through cytology or cell block analysis.\n",
      "   - **Pleural Biopsy**: Consider image-guided pleural biopsy to establish a definitive diagnosis and identify the underlying malignancy.\n",
      "   - **Imaging Studies**: Perform imaging studies such as CT scans to evaluate the extent of pleural involvement and identify potential primary tumors.\n",
      "\n",
      "2. **Staging**:\n",
      "   - Once the diagnosis of MPE is confirmed, staging of the underlying malignancy should be conducted to determine the extent of disease spread. This may involve imaging studies, such as CT scans or PET scans, and possibly other tests depending on the suspected primary tumor.\n",
      "\n",
      "3. **Management**:\n",
      "   - **Pleural Procedures**: Consider therapeutic thoracentesis or pleural drainage to relieve symptoms and improve respiratory function.\n",
      "   - **Chemotherapy**: Depending on the type and stage of the underlying malignancy, chemotherapy may be indicated as part of the treatment plan.\n",
      "   - **Pleurodesis**: In cases where the underlying malignancy is not amenable to curative treatment, pleurodesis may be considered to prevent recurrent pleural effusions.\n",
      "   - **Palliative Care**: Provide supportive care and symptom management to improve the patient's quality of life.\n",
      "\n",
      "4. **Follow-up**:\n",
      "   - Regular follow-up visits to monitor the response to treatment, disease progression, and overall clinical status.\n",
      "   - Repeated thoracentesis or pleural fluid analysis may be needed to assess treatment response and disease control.\n",
      "\n",
      "It is essential to involve a multidisciplinary team including pulmonologists, oncologists, radiologists, and pathologists in the management of Malignant Pleural Effusion to provide comprehensive care tailored to the individual patient's needs.\n"
     ]
    }
   ],
   "source": [
    "\n",
    "# Step 6: Load model and test on new input\n",
    "import json\n",
    "from openai import AzureOpenAI\n",
    "\n",
    "# Load trained model\n",
    "model = joblib.load(\"models/pleuroai_model.pkl\")\n",
    "\n",
    "# Example input (MPE test case)\n",
    "input_data = {\n",
    "    \"AGE\": 65,\n",
    "    \"GENDER\": 1,\n",
    "    \"US_ECHO\": 0,\n",
    "    \"US_DIAPHRAGM\": 0,\n",
    "    \"US_FIBRIN\": 0,\n",
    "    \"US_PLEURAL_THICKENING\": 3.0,\n",
    "    \"PF_PROTEIN\": 5.3,\n",
    "    \"PF_LDH\": 789,\n",
    "    \"PF_GLUCOSE\": 60,\n",
    "    \"PF_ADA\": 12\n",
    "}\n",
    "\n",
    "df = pd.DataFrame([input_data])\n",
    "\n",
    "# Step 7: Predict\n",
    "proba = model.predict_proba(df)[0]\n",
    "prediction_raw = model.predict(df)[0]\n",
    "class_index = list(model.classes_).index(prediction_raw)\n",
    "confidence = round(proba[class_index] * 100, 2)\n",
    "\n",
    "prediction_label = \"Likely Tuberculous Pleural Effusion (TPE)\" if prediction_raw == 1 else \"Likely Malignant Pleural Effusion (MPE)\"\n",
    "print(f\"Prediction: {prediction_label} with confidence: {confidence}%\")\n",
    "\n",
    "# Step 8: GPT Clinical Advice\n",
    "prompt = \"\"\n",
    "if prediction_raw == 1:\n",
    "    prompt = (\n",
    "        f\"The patient is predicted to have Tuberculous Pleural Effusion (TPE). \"\n",
    "        f\"Based on this and the following data: {input_data}, please suggest the next clinical steps, \"\n",
    "        f\"including confirmatory diagnostics and treatment recommendations.\"\n",
    "    )\n",
    "elif prediction_raw == 2:\n",
    "    prompt = (\n",
    "        f\"The patient is predicted to have Malignant Pleural Effusion (MPE). \"\n",
    "        f\"Based on this and the following data: {input_data}, please suggest relevant next clinical steps, \"\n",
    "        f\"including investigations to identify underlying malignancy, staging, and management plans.\"\n",
    "    )\n",
    "\n",
    "# Setup OpenAI\n",
    "client = AzureOpenAI(\n",
    "    api_key = os.getenv(\"OPENAI_KEY\"),\n",
    "    api_version=\"2023-05-15\",\n",
    "    azure_endpoint=\"https://openai-tpe-assistant.openai.azure.com/\"\n",
    ")\n",
    "\n",
    "response = client.chat.completions.create(\n",
    "    model=\"gpt-35-tpebot\",\n",
    "    messages=[\n",
    "        {\"role\": \"system\", \"content\": \"You are a clinical assistant specialized in tuberculosis and pleural effusion diagnosis.\"},\n",
    "        {\"role\": \"user\", \"content\": prompt}\n",
    "    ],\n",
    "    temperature=0.4,\n",
    "    max_tokens=500\n",
    ")\n",
    "\n",
    "gpt_reply = response.choices[0].message.content\n",
    "print(\"GPT Clinical Suggestion:\\n\", gpt_reply)\n"
   ]
  },
  {
   "cell_type": "code",
   "execution_count": 8,
   "id": "7a6a3a12",
   "metadata": {},
   "outputs": [
    {
     "name": "stdout",
     "output_type": "stream",
     "text": [
      "✅ Record saved to Cosmos DB.\n"
     ]
    }
   ],
   "source": [
    "# Initialize Cosmos DB\n",
    "cosmos_client = CosmosClient(\n",
    "    \"https://tpe-cosmosdb.documents.azure.com:443/\",\n",
    "    credential=os.getenv(\"COSMOS_KEY\")\n",
    ")\n",
    "db = cosmos_client.get_database_client(\"TPEAssistant\")\n",
    "container = db.get_container_client(\"Predictions\")\n",
    "\n",
    "# Save to Cosmos DB\n",
    "record = {\n",
    "    \"id\": str(uuid.uuid4()),\n",
    "    \"input\": input_data,  # raw input\n",
    "    \"prediction\": prediction_label,\n",
    "    \"confidence\": f\"{confidence}%\",\n",
    "    \"gpt_response\": gpt_reply\n",
    "}\n",
    "container.create_item(body=record)\n",
    "\n",
    "print(\"✅ Record saved to Cosmos DB.\")"
   ]
  }
 ],
 "metadata": {
  "kernelspec": {
   "display_name": "Python 3",
   "language": "python",
   "name": "python3"
  },
  "language_info": {
   "codemirror_mode": {
    "name": "ipython",
    "version": 3
   },
   "file_extension": ".py",
   "mimetype": "text/x-python",
   "name": "python",
   "nbconvert_exporter": "python",
   "pygments_lexer": "ipython3",
   "version": "3.11.9"
  }
 },
 "nbformat": 4,
 "nbformat_minor": 5
}
