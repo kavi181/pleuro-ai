{
 "cells": [
  {
   "cell_type": "code",
   "execution_count": null,
   "id": "2fd8f45c",
   "metadata": {},
   "outputs": [],
   "source": [
    "\n",
    "# Step 1: Import Libraries\n",
    "import pandas as pd\n",
    "import numpy as np\n",
    "from sklearn.ensemble import RandomForestClassifier\n",
    "from sklearn.metrics import accuracy_score, confusion_matrix, classification_report\n",
    "from sklearn.model_selection import train_test_split\n",
    "import joblib\n",
    "from openai import AzureOpenAI\n",
    "from azure.cosmos import CosmosClient, PartitionKey\n",
    "import uuid\n",
    "import os\n",
    "\n",
    "from dotenv import load_dotenv\n",
    "load_dotenv()"
   ]
  },
  {
   "cell_type": "code",
   "execution_count": null,
   "id": "e09f1a92",
   "metadata": {},
   "outputs": [],
   "source": [
    "\n",
    "# Step 2: Load Dataset\n",
    "df = pd.read_csv(\"data/tpe_dataset.csv\")\n",
    "df.head()\n"
   ]
  },
  {
   "cell_type": "code",
   "execution_count": null,
   "id": "7d5d14e0",
   "metadata": {},
   "outputs": [],
   "source": [
    "# Step 3: Type casting (optional, if needed)\n",
    "df = df.astype({\n",
    "    \"AGE\": 'int64',\n",
    "    \"GENDER\": 'int64',\n",
    "    \"US_ECHO\": 'int64',\n",
    "    \"US_DIAPHRAGM\": 'int64',\n",
    "    \"US_FIBRIN\": 'int64',\n",
    "    \"US_PLEURAL_THICKENING\": 'float64',\n",
    "    \"PF_PROTEIN\": 'float64',\n",
    "    \"PF_LDH\": 'float64',\n",
    "    \"PF_GLUCOSE\": 'float64',\n",
    "    \"PF_ADA\": 'float64',\n",
    "    \"DX_CLASS\": 'int64'\n",
    "})"
   ]
  },
  {
   "cell_type": "code",
   "execution_count": null,
   "id": "db61ace4",
   "metadata": {},
   "outputs": [],
   "source": [
    "\n",
    "# Step 4: Preprocess Data\n",
    "X = df.drop(columns=[\"DX_CLASS\"])\n",
    "y = df[\"DX_CLASS\"]\n",
    "X_train, X_test, y_train, y_test = train_test_split(X, y, test_size=0.2, random_state=42)\n"
   ]
  },
  {
   "cell_type": "code",
   "execution_count": null,
   "id": "5991023e",
   "metadata": {},
   "outputs": [],
   "source": [
    "\n",
    "# Step 5: Train Random Forest Model\n",
    "model = RandomForestClassifier(n_estimators=100, random_state=42)\n",
    "model.fit(X_train, y_train)\n",
    "joblib.dump(model, \"models/tpe_model.pkl\")\n"
   ]
  },
  {
   "cell_type": "code",
   "execution_count": null,
   "id": "13e923f2",
   "metadata": {},
   "outputs": [],
   "source": [
    "\n",
    "# Step 6: Evaluate Model\n",
    "y_pred = model.predict(X_test)\n",
    "print(\"Accuracy:\", accuracy_score(y_test, y_pred))\n",
    "print(\"Confusion Matrix:\\n\", confusion_matrix(y_test, y_pred))\n",
    "print(\"Classification Report:\\n\", classification_report(y_test, y_pred))\n"
   ]
  },
  {
   "cell_type": "code",
   "execution_count": null,
   "id": "d8cf3430",
   "metadata": {},
   "outputs": [],
   "source": [
    "\n",
    "# Step 7: Load Trained Model\n",
    "model = joblib.load(\"models/tpe_model.pkl\")\n"
   ]
  },
  {
   "cell_type": "code",
   "execution_count": null,
   "id": "f2ed08fa",
   "metadata": {},
   "outputs": [],
   "source": [
    "\n",
    "# Step 8: Predict on a Sample\n",
    "sample_input = X_test.iloc[0]\n",
    "sample_input_df = sample_input.to_frame().T\n",
    "sample_prediction = model.predict(sample_input_df)[0]\n",
    "print(\"Prediction:\", \"Likely TPE\" if sample_prediction == 1 else \"Not TPE\")\n"
   ]
  },
  {
   "cell_type": "code",
   "execution_count": null,
   "id": "c38b51af",
   "metadata": {},
   "outputs": [],
   "source": [
    "\n",
    "# Step 9: Generate GPT Response\n",
    "prompt = f\"The patient details are: {sample_input.to_dict()} with prediction: {'Likely TPE' if sample_prediction == 1 else 'Not TPE'}. What should be the next steps?\"\n",
    "\n",
    "client = AzureOpenAI(\n",
    "   api_key = os.getenv(\"OPENAI_KEY\"),\n",
    "    api_version=\"2023-05-15\",\n",
    "    azure_endpoint=\"https://openai-tpe-assistant.openai.azure.com/\"\n",
    ")\n",
    "\n",
    "response = client.chat.completions.create(\n",
    "    model=\"gpt-35-tpebot\",\n",
    "    messages=[\n",
    "        {\"role\": \"system\", \"content\": \"You are a clinical assistant specialized in tuberculosis and pleural effusion diagnosis.\"},\n",
    "        {\"role\": \"user\", \"content\": prompt}\n",
    "    ],\n",
    "    temperature=0.4,\n",
    "    max_tokens=500\n",
    ")\n",
    "\n",
    "gpt_reply = response.choices[0].message.content\n",
    "print(\"GPT Suggestion:\\n\", gpt_reply)\n"
   ]
  },
  {
   "cell_type": "code",
   "execution_count": null,
   "id": "093815c3",
   "metadata": {},
   "outputs": [],
   "source": [
    "\n",
    "# Step 10: Save Result to Cosmos DB\n",
    "cosmos_url = \"https://tpe-cosmosdb.documents.azure.com:443/\"\n",
    "cosmos_key=os.getenv(\"COSMOS_KEY\"))\n",
    "cosmos_client = CosmosClient(cosmos_url, credential=cosmos_key)\n",
    "\n",
    "db = cosmos_client.get_database_client(\"TPEAssistant\")\n",
    "container = db.get_container_client(\"Predictions\")\n",
    "\n",
    "result_doc = {\n",
    "    \"id\": str(uuid.uuid4()),\n",
    "    \"input\": sample_input.to_dict(),\n",
    "    \"prediction\": \"Likely TPE\" if sample_prediction == 1 else \"Not TPE\",\n",
    "    \"gpt_response\": gpt_reply\n",
    "}\n",
    "\n",
    "container.create_item(body=result_doc)\n",
    "print(\"✅ Saved to Cosmos DB\")\n"
   ]
  }
 ],
 "metadata": {
  "kernelspec": {
   "display_name": "Python 3",
   "language": "python",
   "name": "python3"
  },
  "language_info": {
   "codemirror_mode": {
    "name": "ipython",
    "version": 3
   },
   "file_extension": ".py",
   "mimetype": "text/x-python",
   "name": "python",
   "nbconvert_exporter": "python",
   "pygments_lexer": "ipython3",
   "version": "3.11.9"
  }
 },
 "nbformat": 4,
 "nbformat_minor": 5
}
